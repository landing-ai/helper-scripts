{
 "cells": [
  {
   "cell_type": "markdown",
   "metadata": {},
   "source": [
    "# Convert COCO to Pascal VOC\n",
    "\n",
    "This Python script is designed to convert annotations from the COCO format (stored in .json files) to the Pascal VOC format (stored in .xml files).\n",
    "\n",
    "This script converts COCO-format annotations (from .json files) into Pascal VOC-format annotations (stored in .xml files). It extracts image metadata and bounding boxes from COCO .json files, reformats them, and saves them in an XML format compatible with Pascal VOC. \n",
    "\n",
    "## Pascal VOC format for Object Detection with Landing Lens\n",
    "Landing Lens Object Detection projects, can work with the Pascal VOC (Visual Object Classes) format. This format involves uploading the original (unlabeled) image and a corresponding XML file. The XML file contains the label (annotation) details of its paired image. The XML file essentially tells LandingLens where each label is on its associated image and what the name of the class is.\n",
    "\n",
    "The image and XML file must have the same file name (with different extensions). For example:\n",
    "\n",
    "*vehicle_123.png\n",
    "*vehicle_123.xml\n",
    "\n",
    "Additional details at:\n",
    "https://support.landing.ai/docs/upload-labeled-images-od?highlight=pascal%20voc"
   ]
  },
  {
   "cell_type": "markdown",
   "metadata": {},
   "source": [
    "## Imports\n",
    "\n",
    "* pycocotools.coco.COCO: This is a library used to work with COCO (Common Objects in Context) datasets, which contain image annotations in .json format.\n",
    "* os: Provides functions to interact with the file system (e.g., checking paths, creating directories).\n",
    "* lxml.etree, lxml.objectify: These are used to create and manage XML documents for Pascal VOC annotations.\n",
    "* shutil: Used for file operations like deleting or copying directories.\n",
    "* tqdm: A library that adds a progress bar to loops, providing visual feedback.\n",
    "* sys: Interacts with the Python interpreter, useful for command-line argument handling.\n",
    "* argparse: Used to parse command-line arguments.\n"
   ]
  },
  {
   "cell_type": "code",
   "execution_count": null,
   "metadata": {},
   "outputs": [],
   "source": [
    "from pycocotools.coco import COCO\n",
    "import os\n",
    "from lxml import etree, objectify\n",
    "import shutil\n",
    "from tqdm import tqdm\n",
    "import sys\n",
    "import argparse"
   ]
  },
  {
   "cell_type": "markdown",
   "metadata": {},
   "source": [
    "## Functions\n",
    "\n",
    "### catid2name()\n",
    "\n",
    "catid2name(coco)\n",
    "\n",
    "Converts the category IDs from the COCO dataset to category names (a dictionary that maps IDs to names).\n",
    "Input: A COCO object loaded from the .json file.\n",
    "Output: A dictionary where keys are category IDs, and values are category names (e.g., {1: 'person', 2: 'bicycle', ...})."
   ]
  },
  {
   "cell_type": "code",
   "execution_count": null,
   "metadata": {},
   "outputs": [],
   "source": [
    "def catid2name(coco):\n",
    "    classes = dict()\n",
    "    for cat in coco.dataset['categories']:\n",
    "        classes[cat['id']] = cat['name']\n",
    "    return classes"
   ]
  },
  {
   "cell_type": "markdown",
   "metadata": {},
   "source": [
    "### save_anno_to_xml()\n",
    "\n",
    "save_anno_to_xml(filename, size, objs, save_path)\n",
    "\n",
    "Parameters:\n",
    "* filename: The name of the image file.\n",
    "* size: A dictionary containing the width, height, and depth (usually 3 for RGB images) of the image.\n",
    "* objs: A list of objects, where each object contains the category name and bounding box coordinates (xmin, ymin, xmax, ymax).\n",
    "save_path: The directory where the resulting XML file will be saved.\n",
    "\n",
    "Converts image annotation information into Pascal VOC format and saves it as an XML file. Uses objectify.ElementMaker to create XML elements. Annotations include information about the image file, the source, image size, and the list of objects.\n",
    "For each object (category and bounding box), it appends the corresponding <object> element to the XML tree.\n",
    "The XML file is saved with the same name as the image but with the .xml extension."
   ]
  },
  {
   "cell_type": "code",
   "execution_count": null,
   "metadata": {},
   "outputs": [],
   "source": [
    "\n",
    "def save_anno_to_xml(filename, size, objs, save_path):\n",
    "    E = objectify.ElementMaker(annotate=False)\n",
    "    anno_tree = E.annotation(\n",
    "        E.folder(\"DATA\"),\n",
    "        E.filename(filename),\n",
    "        E.source(\n",
    "            E.database(\"The VOC Database\"),\n",
    "            E.annotation(\"PASCAL VOC\"),\n",
    "            E.image(\"flickr\")\n",
    "        ),\n",
    "        E.size(\n",
    "            E.width(size['width']),\n",
    "            E.height(size['height']),\n",
    "            E.depth(size['depth'])\n",
    "        ),\n",
    "        E.segmented(0)\n",
    "    )\n",
    "    for obj in objs:\n",
    "        E2 = objectify.ElementMaker(annotate=False)\n",
    "        anno_tree2 = E2.object(\n",
    "            E.name(obj[0]),\n",
    "            E.pose(\"Unspecified\"),\n",
    "            E.truncated(0),\n",
    "            E.difficult(0),\n",
    "            E.bndbox(\n",
    "                E.xmin(obj[1]),\n",
    "                E.ymin(obj[2]),\n",
    "                E.xmax(obj[3]),\n",
    "                E.ymax(obj[4])\n",
    "            )\n",
    "        )\n",
    "        anno_tree.append(anno_tree2)\n",
    "    anno_path = os.path.join(save_path, filename[:-3] + \"xml\")\n",
    "    etree.ElementTree(anno_tree).write(anno_path, pretty_print=True)\n"
   ]
  },
  {
   "cell_type": "markdown",
   "metadata": {},
   "source": [
    "## load_coco()\n",
    "\n",
    "load_coco(anno_file, xml_save_path)\n",
    "\n",
    "Parameters:\n",
    "* anno_file: Path to the COCO .json annotation file.\n",
    "* xml_save_path: Directory where the converted XML files will be saved.\n",
    "\n",
    "Loads the COCO dataset from a .json file, extracts annotations, and saves them in VOC format. Loads the COCO dataset using COCO(anno_file). Calls catid2name to create a mapping of category IDs to category names. Iterates over all image IDs (imgIds) in the COCO dataset.\n",
    "\n",
    "For each image:\n",
    "1) Extracts the image dimensions and file name.\n",
    "2) Loads the annotations (anns) for that image, including bounding boxes (bbox).\n",
    "3) Converts bounding boxes from the COCO format (x, y, width, height) to Pascal VOC format (xmin, ymin, xmax, ymax).\n",
    "4) Calls save_anno_to_xml to save the annotations in Pascal VOC XML format."
   ]
  },
  {
   "cell_type": "code",
   "execution_count": null,
   "metadata": {},
   "outputs": [],
   "source": [
    "def load_coco(anno_file, xml_save_path):\n",
    "    if os.path.exists(xml_save_path):\n",
    "        shutil.rmtree(xml_save_path)\n",
    "    os.makedirs(xml_save_path)\n",
    "\n",
    "    coco = COCO(anno_file)\n",
    "    classes = catid2name(coco)\n",
    "    imgIds = coco.getImgIds()\n",
    "    classesIds = coco.getCatIds()\n",
    "    for imgId in tqdm(imgIds):\n",
    "        size = {}\n",
    "        img = coco.loadImgs(imgId)[0]\n",
    "        filename = img['file_name']\n",
    "        width = img['width']\n",
    "        height = img['height']\n",
    "        size['width'] = width\n",
    "        size['height'] = height\n",
    "        size['depth'] = 3\n",
    "        annIds = coco.getAnnIds(imgIds=img['id'], iscrowd=None)\n",
    "        anns = coco.loadAnns(annIds)\n",
    "        objs = []\n",
    "        for ann in anns:\n",
    "            object_name = classes[ann['category_id']]\n",
    "            # bbox:[x,y,w,h]\n",
    "            bbox = list(map(int, ann['bbox']))\n",
    "            xmin = bbox[0]\n",
    "            ymin = bbox[1]\n",
    "            xmax = bbox[0] + bbox[2]\n",
    "            ymax = bbox[1] + bbox[3]\n",
    "            obj = [object_name, xmin, ymin, xmax, ymax]\n",
    "            objs.append(obj)\n",
    "        save_anno_to_xml(filename, size, objs, xml_save_path)\n"
   ]
  },
  {
   "cell_type": "markdown",
   "metadata": {},
   "source": [
    "### parseJsonFile()\n",
    "\n",
    "parseJsonFile(data_dir, xmls_save_path)\n",
    "\n",
    "Parameters:\n",
    "\n",
    "* data_dir: Path to either a COCO .json file or a directory containing multiple datasets.\n",
    "* xmls_save_path: Path where the resulting XML files will be saved.\n",
    "\n",
    "Determines whether the input is a directory or a single file, then processes it accordingly. If the input is a directory, it processes both the train2017 and val2017 subsets by loading their corresponding .json files and saving the converted annotations.\n",
    "If the input is a single file, it processes that file directly using load_coco."
   ]
  },
  {
   "cell_type": "code",
   "execution_count": null,
   "metadata": {},
   "outputs": [],
   "source": [
    "def parseJsonFile(data_dir, xmls_save_path):\n",
    "    assert os.path.exists(data_dir), \"data dir:{} does not exits\".format(data_dir)\n",
    "\n",
    "    if os.path.isdir(data_dir):\n",
    "        data_types = ['train2017', 'val2017']\n",
    "        for data_type in data_types:\n",
    "            ann_file = 'instances_{}.json'.format(data_type)\n",
    "            xmls_save_path = os.path.join(xmls_save_path, data_type)\n",
    "            load_coco(ann_file, xmls_save_path)\n",
    "    elif os.path.isfile(data_dir):\n",
    "        anno_file = data_dir\n",
    "        load_coco(anno_file, xmls_save_path)"
   ]
  },
  {
   "cell_type": "markdown",
   "metadata": {},
   "source": [
    "## Main Script Block\n",
    "\n",
    "Handles command-line argument parsing and script execution.\n",
    "\n",
    "Uses argparse to define two command-line arguments:\n",
    "--data-dir (-d): Path to the COCO .json annotation file or directory.\n",
    "--save-path (-s): Path where the XML files should be saved.\n",
    "\n",
    "If command-line arguments are provided, it calls parseJsonFile with the specified paths.\n",
    "If no arguments are provided, it uses default paths (./data/labels/coco/train.json and ./data/convert/voc) to process the dataset.\n"
   ]
  },
  {
   "cell_type": "code",
   "execution_count": null,
   "metadata": {},
   "outputs": [],
   "source": [
    "if __name__ == '__main__':\n",
    "    \"\"\"\n",
    "    Script Description:\n",
    "        This script is used to convert json files in coco format to xml files in voc format\n",
    "    Parameter Description:\n",
    "        data_dir:path of the json file\n",
    "        xml_save_path:path of the xml output.\n",
    "    \"\"\"\n",
    "\n",
    "    parser = argparse.ArgumentParser()\n",
    "    parser.add_argument('-d', '--data-dir', type=str, default='./data/labels/coco/train.json', help='json path')\n",
    "    parser.add_argument('-s', '--save-path', type=str, default='./data/convert/voc', help='xml save path')\n",
    "    opt = parser.parse_args()\n",
    "    print(opt)\n",
    "\n",
    "    if len(sys.argv) > 1:\n",
    "        parseJsonFile(opt.data_dir, opt.save_path)\n",
    "    else:\n",
    "        data_dir = './data/labels/coco/train.json'\n",
    "        xml_save_path = './data/convert/voc'\n",
    "        parseJsonFile(data_dir=data_dir, xmls_save_path=xml_save_path)"
   ]
  }
 ],
 "metadata": {
  "language_info": {
   "name": "python"
  }
 },
 "nbformat": 4,
 "nbformat_minor": 2
}
