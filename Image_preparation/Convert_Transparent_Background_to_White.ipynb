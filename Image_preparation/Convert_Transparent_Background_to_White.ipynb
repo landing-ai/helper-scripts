{
 "cells": [
  {
   "cell_type": "markdown",
   "metadata": {},
   "source": [
    "# Transparent Background to White\n",
    "\n",
    "This Python script is designed to iterate through a directory of images, convert them from their original format (with transparency) to a format with a solid background, and then save them as new images with the modified background. It uses the PIL (Pillow) library to handle image manipulation.\n",
    "\n",
    "If an image doesn't have transparency, it skips the background conversion part and directly saves it in RGB mode.\n",
    "This script is useful for batch-processing images that need to be converted from formats that support transparency (e.g., PNG) to formats that don't (e.g., JPG)."
   ]
  },
  {
   "cell_type": "markdown",
   "metadata": {},
   "source": [
    "### Imports\n",
    "\n",
    "os: Used to interact with the file system, specifically for navigating directories and paths.\n",
    "PIL.Image: From the Pillow library, used to open, manipulate, and save images."
   ]
  },
  {
   "cell_type": "code",
   "execution_count": null,
   "metadata": {},
   "outputs": [],
   "source": [
    "import os\n",
    "from PIL import Image"
   ]
  },
  {
   "cell_type": "markdown",
   "metadata": {},
   "source": [
    "### Process each image\n",
    "\n",
    "path: Specifies the directory where the images are located.\n",
    "\n",
    "os.walk(path): Recursively walks through the directory path. It returns:\n",
    "* root: The current directory being walked through.\n",
    "* dirs: The list of subdirectories in root.\n",
    "* files: The list of files in root.\n",
    "* print(os.path.join(root, name)): For each file found, it prints the full file path.\n",
    "* Image.open(os.path.join(root, name)): Opens the image located at os.path.join(root, name).\n",
    "* fill_color = (255, 255, 255): Defines the background color to be white (RGB value (255, 255, 255)).\n",
    "\n",
    "* im.convert(\"RGBA\"): Converts the image to RGBA mode (Red, Green, Blue, Alpha). This is essential if the image has transparency (alpha channel).\n",
    "* if im.mode in ('RGBA', 'LA'): Checks if the image is in RGBA (with alpha) or LA (grayscale with alpha) mode.\n",
    "* Image.new(im.mode[:-1], im.size, fill_color): Creates a new image (the background) of the same size as im but without the alpha channel, filled with the specified background color (white).\n",
    "* im.mode[:-1] removes the \"A\" (alpha) from RGBA, so it creates an RGB image.\n",
    "* background.paste(im, im.split()[-1]): Pastes the original image (im) onto the background, ignoring its alpha channel. The im.split()[-1] extracts the alpha channel to control where the transparency is applied.\n",
    "* im = background: Replaces im with the image that now has a white background instead of transparency.\n",
    "* im.convert(\"RGB\"): Converts the image to RGB mode, removing any remaining alpha channel.\n",
    "* im.save(os.path.join(root, result)): Saves the modified image in the same directory with the same file name.\n",
    "\n"
   ]
  },
  {
   "cell_type": "code",
   "execution_count": null,
   "metadata": {
    "vscode": {
     "languageId": "plaintext"
    }
   },
   "outputs": [],
   "source": [
    "path = \"./MyProject/Images\"\n",
    "\n",
    "for root, dirs, files in os.walk(path, topdown=False):\n",
    "    for name in files:\n",
    "        print(os.path.join(root, name))\n",
    "\n",
    "        im = Image.open(os.path.join(root, name))\n",
    "\n",
    "        fill_color = (255,255,255)   # your new background color\n",
    "\n",
    "        im = im.convert(\"RGBA\")\n",
    "        if im.mode in ('RGBA', 'LA'):\n",
    "            background = Image.new(im.mode[:-1], im.size, fill_color)\n",
    "            background.paste(im, im.split()[-1]) # omit transparency\n",
    "            im = background\n",
    "        result = name\n",
    "\n",
    "        im.convert(\"RGB\").save(os.path.join(root, result))"
   ]
  }
 ],
 "metadata": {
  "language_info": {
   "name": "python"
  }
 },
 "nbformat": 4,
 "nbformat_minor": 2
}
