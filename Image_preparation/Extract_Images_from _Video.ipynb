{
 "cells": [
  {
   "cell_type": "markdown",
   "metadata": {},
   "source": [
    "# Extract Images from Video\n",
    "\n",
    "This script extracts frames from each video file in the input_directory and saves them as images in an output_directory. The frame extraction occurs at a user-specified rate (e.g., extract one frame every second). Each video gets its own subdirectory in the output_directory where its frames are stored as .jpg images. The script handles both .mp4 and .avi video formats."
   ]
  },
  {
   "cell_type": "markdown",
   "metadata": {},
   "source": [
    "## Imports\n",
    "\n",
    "* cv2: OpenCV library for computer vision tasks, used here to handle video file reading and image saving.\n",
    "* os: Used for interacting with the file system, such as creating directories and navigating through files."
   ]
  },
  {
   "cell_type": "code",
   "execution_count": null,
   "metadata": {},
   "outputs": [],
   "source": [
    "import cv2\n",
    "import os"
   ]
  },
  {
   "cell_type": "markdown",
   "metadata": {},
   "source": [
    "## Functions\n",
    "\n",
    "## extract_frames_from_directory()\n",
    "\n",
    "extract_frames_from_directory(input_directory, output_directory, frame_rate)\n",
    "\n",
    "This function processes video files in a directory, extracts frames at a specified rate, and saves them to an output directory.\n",
    "\n",
    "* os.listdir(input_directory): Lists all the files in the specified input_directory.\n",
    "input_path: The full path to the video file.\n",
    "* video_output_folder: A subdirectory inside output_directory is created, named after the video file (without its extension). This is where the extracted frames will be saved.\n",
    "* cv2.VideoCapture(input_path): Opens the video file for frame-by-frame processing.\n",
    "* fps: Retrieves the frames per second (FPS) of the video using cv2.CAP_PROP_FPS.\n",
    "* frame_interval: Determines how often frames should be saved, based on the desired frame_rate. For example, if the video FPS is 30 and the desired frame rate is 2 (i.e., extract 2 frames per second), frame_interval would be 30 / 2 = 15, meaning every 15th frame will be saved.\n",
    "* cap.isOpened(): Loops through the video file as long as the video is successfully opened.\n",
    "* ret, frame = cap.read(): Reads each frame from the video. ret is False when there are no more frames, and frame contains the current frame.\n",
    "* count % frame_interval == 0: This condition ensures that frames are saved at the specified frame_rate. For example, if frame_interval is 15, every 15th frame will be saved.\n",
    "* cv2.imwrite(output_path, frame): Saves the current frame as an image file with the name frame_<count>.jpg in the appropriate subdirectory.\n",
    "* count += 1: Increments the frame counter.\n",
    "* cap.release(): Closes the video file once all frames have been processed.\n",
    "* cv2.destroyAllWindows(): Cleans up any OpenCV windows (even though no windows were opened in this script, it's a good practice to include this)."
   ]
  },
  {
   "cell_type": "code",
   "execution_count": null,
   "metadata": {},
   "outputs": [],
   "source": [
    "def extract_frames_from_directory(input_directory, output_directory, frame_rate):\n",
    "    # Create output directory if it doesn't exist\n",
    "    if not os.path.exists(output_directory):\n",
    "        os.makedirs(output_directory)\n",
    "\n",
    "    # Loop through each file in the input directory\n",
    "    for filename in os.listdir(input_directory):\n",
    "        # Check if the file is a video file & get the path name to each file\n",
    "        if filename.endswith('.mp4') or filename.endswith('.avi'):\n",
    "            input_path = os.path.join(input_directory, filename)\n",
    "\n",
    "            video_output_folder = os.path.join(output_directory, os.path.splitext(filename)[0])\n",
    "            if not os.path.exists(video_output_folder):\n",
    "                os.makedirs(video_output_folder)\n",
    "\n",
    "            # Open the video file & get the video frame rate\n",
    "            cap = cv2.VideoCapture(input_path)\n",
    "\n",
    "            fps = cap.get(cv2.CAP_PROP_FPS)\n",
    "\n",
    "            # Calculate the frame interval based on the desired frame rate\n",
    "            frame_interval = int(fps / frame_rate)\n",
    "\n",
    "            # Initialize frame counter\n",
    "            count = 0\n",
    "\n",
    "            # Loop through video frames\n",
    "            while cap.isOpened():\n",
    "                ret, frame = cap.read()\n",
    "\n",
    "                if not ret:\n",
    "                    break\n",
    "\n",
    "                if count % frame_interval == 0:\n",
    "                    # Save frame as image file\n",
    "                    output_path = os.path.join(video_output_folder, f\"frame_{count}.jpg\")\n",
    "                    cv2.imwrite(output_path, frame)\n",
    "\n",
    "                count += 1\n",
    "\n",
    "            cap.release()\n",
    "    \n",
    "    cv2.destroyAllWindows()"
   ]
  },
  {
   "cell_type": "markdown",
   "metadata": {},
   "source": [
    "## Sample Usage\n",
    "\n",
    "Extract one frame per second from each video in the input folder."
   ]
  },
  {
   "cell_type": "code",
   "execution_count": null,
   "metadata": {},
   "outputs": [],
   "source": [
    "input_directory = \"./input_dir/\"\n",
    "output_directory = \"./output_dir/\"\n",
    "frame_rate = 1\n",
    "\n",
    "# Call the extract_frames_from_directory function\n",
    "extract_frames_from_directory(input_directory, output_directory, frame_rate)"
   ]
  }
 ],
 "metadata": {
  "language_info": {
   "name": "python"
  }
 },
 "nbformat": 4,
 "nbformat_minor": 2
}
