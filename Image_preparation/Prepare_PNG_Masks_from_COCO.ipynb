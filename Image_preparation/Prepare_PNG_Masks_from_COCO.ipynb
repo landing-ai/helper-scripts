{
 "cells": [
  {
   "cell_type": "markdown",
   "metadata": {},
   "source": [
    "# Prepare PNG segementation masks from COCO\n",
    "\n",
    "This code processes COCO-formatted annotations and images in a specific directory, modifies some information, and generates corresponding mask images in a PNG file format based on object segmentations.\n",
    "\n",
    "More information about segmentation mask requirements can be found at https://support.landing.ai/landinglens/docs/upload-labeled-images-seg#segmentation-mask"
   ]
  },
  {
   "cell_type": "markdown",
   "metadata": {},
   "source": [
    "## Required libraries and packages"
   ]
  },
  {
   "cell_type": "code",
   "execution_count": null,
   "metadata": {},
   "outputs": [],
   "source": [
    "import os\n",
    "import json\n",
    "import cv2\n",
    "import numpy as np\n",
    "from pycocotools.coco import COCO"
   ]
  },
  {
   "cell_type": "markdown",
   "metadata": {},
   "source": [
    "## Preparation\n",
    "\n",
    "### Variables\n",
    "\n",
    "input_dir: Directory where the images and annotations are stored.\n",
    "output_dir: Directory where the processed output (mask files and modified annotations) will be stored."
   ]
  },
  {
   "cell_type": "code",
   "execution_count": null,
   "metadata": {},
   "outputs": [],
   "source": [
    "input_dir = './myProject/input_dir'\n",
    "output_dir = './myProject/output_dir'"
   ]
  },
  {
   "cell_type": "code",
   "execution_count": null,
   "metadata": {},
   "outputs": [],
   "source": [
    "# This ensures that the output directory exists. If it doesn’t, it creates the directory.\n",
    "if not os.path.exists(output_dir):\n",
    "    os.makedirs(output_dir)"
   ]
  },
  {
   "cell_type": "markdown",
   "metadata": {},
   "source": [
    "### Loading COCO annotations\n",
    "\n",
    "This opens and loads the COCO annotations from the file '_annotations.coco.json' located in the input_dir. COCO annotations contain image metadata, categories (labels), and object annotations (bounding boxes, segmentation masks, etc.)."
   ]
  },
  {
   "cell_type": "code",
   "execution_count": null,
   "metadata": {},
   "outputs": [],
   "source": [
    "with open(os.path.join(input_dir, '_annotations.coco.json'), 'r') as f:\n",
    "    coco_data = json.load(f)"
   ]
  },
  {
   "cell_type": "markdown",
   "metadata": {},
   "source": [
    "### Modifying the category and annotation IDs\n",
    "This increments the category_id of each annotation by 1. This is done to re-map the categories to new IDs.\n",
    "\n",
    "The new dictionary called defect_map, maps the new category_ids to their corresponding names. A mapping for category \"0\" is predefined as \"ok\", and the loop appends additional mappings by increasing the id of each category and associating it with its name. \n",
    "\n",
    "The value for “0” must be “ok”. “0” is used to identify the background; in other words, areas that do not have classes applied to them. The value “ok” will not be created as a class. If you don’t include this line, you will get an error when you try to upload the images."
   ]
  },
  {
   "cell_type": "code",
   "execution_count": null,
   "metadata": {},
   "outputs": [],
   "source": [
    "increment = 1\n",
    "\n",
    "for ann in coco_data['annotations']:\n",
    "    ann['category_id'] += increment\n",
    "\n",
    "defect_map = {0:\"ok\",}\n",
    "for ann in coco_data['categories']:\n",
    "    ann['id'] += increment\n",
    "    defect_map[ann['id']] = ann['name']"
   ]
  },
  {
   "cell_type": "markdown",
   "metadata": {},
   "source": [
    "### Saving modified annotations and category mapping\n",
    "\n",
    "The modified annotations (with incremented category_ids) are saved to a new JSON file (_annotations_modified.coco.json). The defect_map (category ID to name mapping) is saved as defect_map.json in the output_dir."
   ]
  },
  {
   "cell_type": "code",
   "execution_count": null,
   "metadata": {},
   "outputs": [],
   "source": [
    "with open(os.path.join(input_dir, '_annotations_modified.coco.json'), 'w') as f:\n",
    "    json.dump(coco_data, f)\n",
    "\n",
    "with open(os.path.join(output_dir, 'defect_map.json'), 'w') as f:\n",
    "    json.dump(defect_map, f)"
   ]
  },
  {
   "cell_type": "markdown",
   "metadata": {},
   "source": [
    "### Loading modified annotations\n",
    "\n",
    "The COCO class is instantiated with the modified annotations, allowing further image and annotation manipulation."
   ]
  },
  {
   "cell_type": "code",
   "execution_count": null,
   "metadata": {},
   "outputs": [],
   "source": [
    "coco = COCO(os.path.join(input_dir, '_annotations_modified.coco.json'))"
   ]
  },
  {
   "cell_type": "markdown",
   "metadata": {},
   "source": [
    "## Processing each image\n",
    "\n",
    "First retrieve a list of all image IDs in the modified COCO dataset. \n",
    "\n",
    "Then for each image, the code fetches the image metadata (img_info), loads the image file in grayscale mode using OpenCV, and retrieves its height and width.\n",
    "\n",
    "### Creating the mask\n",
    "\n",
    "An empty mask image (a 2D array) with the same height and width as the input image in intialized. Initially, the mask is filled with zeros (black).\n",
    "\n",
    "### Applying the segmentation to the mask\n",
    "\n",
    "For each image, load all the annotations (object segments) associated with it.\n",
    "\n",
    "For each annotation, retrieve the category_id, label (name), and segmentation data. Then, convert the segmentation to a binary mask using annToMask, and updates the corresponding area of the main mask with the object mask.\n",
    "\n",
    "### Saving the mask\n",
    "Save the generated mask for each image as a PNG file in the output_dir."
   ]
  },
  {
   "cell_type": "code",
   "execution_count": null,
   "metadata": {},
   "outputs": [],
   "source": [
    "img_ids = coco.getImgIds()\n",
    "\n",
    "for img_id in img_ids:\n",
    "    img_info = coco.loadImgs(img_id)[0]\n",
    "    img_file = os.path.join(input_dir, img_info['file_name'])\n",
    "    img = cv2.imread(img_file, cv2.IMREAD_GRAYSCALE)\n",
    "    height, width = img.shape[:2]\n",
    "\n",
    "    mask = np.zeros((height, width), dtype=np.uint8)\n",
    "\n",
    "    for ann in anns:\n",
    "        label = coco.loadCats(ann['category_id'])[0]['name']\n",
    "        segmentation = ann['segmentation']\n",
    "\n",
    "        seg_mask = coco.annToMask(ann)\n",
    "        mask[seg_mask == 1] = 1\n",
    "\n",
    "    mask_file = os.path.splitext(img_info['file_name'])[0] + '.png'\n",
    "    mask_path = os.path.join(output_dir, mask_file)\n",
    "    cv2.imwrite(mask_path, mask)"
   ]
  }
 ],
 "metadata": {
  "language_info": {
   "name": "python"
  }
 },
 "nbformat": 4,
 "nbformat_minor": 2
}
